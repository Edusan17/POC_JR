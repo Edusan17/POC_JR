{
 "cells": [
  {
   "cell_type": "code",
   "execution_count": 9,
   "metadata": {},
   "outputs": [
    {
     "name": "stdout",
     "output_type": "stream",
     "text": [
      "Collecting mysqlclient\n",
      "  Downloading mysqlclient-2.2.0.tar.gz (89 kB)\n",
      "     ---------------------------------------- 0.0/89.5 kB ? eta -:--:--\n",
      "     ---------------------------------------- 89.5/89.5 kB 2.6 MB/s eta 0:00:00\n",
      "  Installing build dependencies: started\n",
      "  Installing build dependencies: finished with status 'done'\n",
      "  Getting requirements to build wheel: started\n",
      "  Getting requirements to build wheel: finished with status 'done'\n",
      "  Installing backend dependencies: started\n",
      "  Installing backend dependencies: finished with status 'done'\n",
      "  Preparing metadata (pyproject.toml): started\n",
      "  Preparing metadata (pyproject.toml): finished with status 'done'\n",
      "Building wheels for collected packages: mysqlclient\n",
      "  Building wheel for mysqlclient (pyproject.toml): started\n",
      "  Building wheel for mysqlclient (pyproject.toml): finished with status 'error'\n",
      "Failed to build mysqlclient\n",
      "Note: you may need to restart the kernel to use updated packages.\n"
     ]
    },
    {
     "name": "stderr",
     "output_type": "stream",
     "text": [
      "  error: subprocess-exited-with-error\n",
      "  \n",
      "  × Building wheel for mysqlclient (pyproject.toml) did not run successfully.\n",
      "  │ exit code: 1\n",
      "  ╰─> [39 lines of output]\n",
      "      # Options for building extention module:\n",
      "        library_dirs: ['C:/mariadb-connector\\\\lib\\\\mariadb', 'C:/mariadb-connector\\\\lib']\n",
      "        libraries: ['kernel32', 'advapi32', 'wsock32', 'shlwapi', 'Ws2_32', 'crypt32', 'secur32', 'bcrypt', 'mariadbclient']\n",
      "        extra_link_args: ['/MANIFEST']\n",
      "        include_dirs: ['C:/mariadb-connector\\\\include\\\\mariadb', 'C:/mariadb-connector\\\\include']\n",
      "        extra_objects: []\n",
      "        define_macros: [('version_info', (2, 2, 0, 'final', 0)), ('__version__', '2.2.0')]\n",
      "      running bdist_wheel\n",
      "      running build\n",
      "      running build_py\n",
      "      creating build\n",
      "      creating build\\lib.win-amd64-cpython-312\n",
      "      creating build\\lib.win-amd64-cpython-312\\MySQLdb\n",
      "      copying src\\MySQLdb\\connections.py -> build\\lib.win-amd64-cpython-312\\MySQLdb\n",
      "      copying src\\MySQLdb\\converters.py -> build\\lib.win-amd64-cpython-312\\MySQLdb\n",
      "      copying src\\MySQLdb\\cursors.py -> build\\lib.win-amd64-cpython-312\\MySQLdb\n",
      "      copying src\\MySQLdb\\release.py -> build\\lib.win-amd64-cpython-312\\MySQLdb\n",
      "      copying src\\MySQLdb\\times.py -> build\\lib.win-amd64-cpython-312\\MySQLdb\n",
      "      copying src\\MySQLdb\\_exceptions.py -> build\\lib.win-amd64-cpython-312\\MySQLdb\n",
      "      copying src\\MySQLdb\\__init__.py -> build\\lib.win-amd64-cpython-312\\MySQLdb\n",
      "      creating build\\lib.win-amd64-cpython-312\\MySQLdb\\constants\n",
      "      copying src\\MySQLdb\\constants\\CLIENT.py -> build\\lib.win-amd64-cpython-312\\MySQLdb\\constants\n",
      "      copying src\\MySQLdb\\constants\\CR.py -> build\\lib.win-amd64-cpython-312\\MySQLdb\\constants\n",
      "      copying src\\MySQLdb\\constants\\ER.py -> build\\lib.win-amd64-cpython-312\\MySQLdb\\constants\n",
      "      copying src\\MySQLdb\\constants\\FIELD_TYPE.py -> build\\lib.win-amd64-cpython-312\\MySQLdb\\constants\n",
      "      copying src\\MySQLdb\\constants\\FLAG.py -> build\\lib.win-amd64-cpython-312\\MySQLdb\\constants\n",
      "      copying src\\MySQLdb\\constants\\__init__.py -> build\\lib.win-amd64-cpython-312\\MySQLdb\\constants\n",
      "      running egg_info\n",
      "      writing src\\mysqlclient.egg-info\\PKG-INFO\n",
      "      writing dependency_links to src\\mysqlclient.egg-info\\dependency_links.txt\n",
      "      writing top-level names to src\\mysqlclient.egg-info\\top_level.txt\n",
      "      reading manifest file 'src\\mysqlclient.egg-info\\SOURCES.txt'\n",
      "      reading manifest template 'MANIFEST.in'\n",
      "      adding license file 'LICENSE'\n",
      "      writing manifest file 'src\\mysqlclient.egg-info\\SOURCES.txt'\n",
      "      copying src\\MySQLdb\\_mysql.c -> build\\lib.win-amd64-cpython-312\\MySQLdb\n",
      "      running build_ext\n",
      "      building 'MySQLdb._mysql' extension\n",
      "      error: Microsoft Visual C++ 14.0 or greater is required. Get it with \"Microsoft C++ Build Tools\": https://visualstudio.microsoft.com/visual-cpp-build-tools/\n",
      "      [end of output]\n",
      "  \n",
      "  note: This error originates from a subprocess, and is likely not a problem with pip.\n",
      "  ERROR: Failed building wheel for mysqlclient\n",
      "ERROR: Could not build wheels for mysqlclient, which is required to install pyproject.toml-based projects\n"
     ]
    }
   ],
   "source": [
    "%pip install mysqlclient"
   ]
  }
 ],
 "metadata": {
  "kernelspec": {
   "display_name": ".venv",
   "language": "python",
   "name": "python3"
  },
  "language_info": {
   "codemirror_mode": {
    "name": "ipython",
    "version": 3
   },
   "file_extension": ".py",
   "mimetype": "text/x-python",
   "name": "python",
   "nbconvert_exporter": "python",
   "pygments_lexer": "ipython3",
   "version": "3.12.0"
  }
 },
 "nbformat": 4,
 "nbformat_minor": 2
}
